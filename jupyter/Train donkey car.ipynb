{
 "cells": [
  {
   "cell_type": "code",
   "execution_count": 1,
   "metadata": {},
   "outputs": [],
   "source": [
    "import pandas as pd\n",
    "import numpy as np\n",
    "from glob import glob\n",
    "import os"
   ]
  },
  {
   "cell_type": "code",
   "execution_count": 2,
   "metadata": {
    "collapsed": true
   },
   "outputs": [],
   "source": [
    "TUBS_PATH='/home/af1n/work/robocar/donkey-categorical/tub2'\n",
    "MODEL_SAVE_PATH='/tmp/best_model.h5'"
   ]
  },
  {
   "cell_type": "code",
   "execution_count": null,
   "metadata": {},
   "outputs": [],
   "source": [
    "# Load all records from tubes\n",
    "# A single record is a JSON file containing path to the camera image and steering angle of the car when the\n",
    "# camera image was acquired.\n",
    "\n",
    "record_files=glob(os.path.join(TUBS_PATH,\"*\",\"record*.json\"))\n",
    "records=pd.DataFrame(record_files, columns=['record_path'])\n",
    "records=pd.concat([records, records.apply(lambda path: pd.read_json(path_or_buf=path['record_path'], typ='series'),axis=1)], axis=1)\n",
    "records['cam/image_array']=records.apply(lambda s: os.path.join(os.path.dirname(s['record_path']), s['cam/image_array']), axis=1)\n",
    "records.head(10)"
   ]
  },
  {
   "cell_type": "code",
   "execution_count": null,
   "metadata": {},
   "outputs": [],
   "source": [
    "samples=records[['cam/image_array', 'user/angle']]\n",
    "samples.columns=['img', 'angle']\n",
    "samples.head(10)"
   ]
  },
  {
   "cell_type": "code",
   "execution_count": null,
   "metadata": {},
   "outputs": [],
   "source": [
    "def linear_bin(a):\n",
    "    \"\"\"\n",
    "    Convert a value to a categorical array.\n",
    "    Taken from donkeycar util/data.py\n",
    "\n",
    "    Parameters\n",
    "    ----------\n",
    "    a : int or float\n",
    "        A value between -1 and 1\n",
    "\n",
    "    Returns\n",
    "    -------\n",
    "    list of int\n",
    "        A list of length 15 with one item set to 1, which represents the linear value, and \n",
    "all other items set to 0.\n",
    "    \"\"\"\n",
    "    a = a + 1\n",
    "    b = round(a / (2 / 14))\n",
    "    arr = np.zeros(15)\n",
    "    arr[int(b)] = 1\n",
    "    return str(arr.tolist())\n",
    "\n",
    "classes=[linear_bin(x) for x in np.arange(-1,1.1,2/14)]\n",
    "classes"
   ]
  },
  {
   "cell_type": "code",
   "execution_count": null,
   "metadata": {},
   "outputs": [],
   "source": [
    "samples_categorical = pd.DataFrame(samples)\n",
    "samples_categorical['angle'] = samples['angle'].apply(lambda x: linear_bin(x))\n",
    "samples_categorical.head(10)\n",
    "samples_categorical['img'].iloc[0]"
   ]
  },
  {
   "cell_type": "code",
   "execution_count": null,
   "metadata": {},
   "outputs": [],
   "source": [
    "import keras\n",
    "from keras_preprocessing.image import ImageDataGenerator\n",
    "from keras.layers import Input\n",
    "from keras.models import Model, Sequential, load_model\n",
    "from keras.layers import Convolution2D, MaxPooling2D, Cropping2D\n",
    "from keras.layers import Dropout, Flatten, Dense, Activation\n",
    "from keras.callbacks import ModelCheckpoint, EarlyStopping\n",
    "from keras import optimizers"
   ]
  },
  {
   "cell_type": "code",
   "execution_count": null,
   "metadata": {
    "collapsed": true
   },
   "outputs": [],
   "source": [
    "IMAGE_INPUT_WIDTH=160\n",
    "IMAGE_INPUT_HEIGHT=120\n",
    "# This discards number of pixels from the top after scaling\n",
    "TOP_MARGIN_IN_PIXELS=120-72"
   ]
  },
  {
   "cell_type": "code",
   "execution_count": null,
   "metadata": {},
   "outputs": [],
   "source": [
    "model = Sequential()\n",
    "\n",
    "#model.add(Cropping2D(cropping=((TOP_MARGIN_IN_PIXELS,0),(0,0)), input_shape=(IMAGE_INPUT_WIDTH, IMAGE_INPUT_HEIGHT,3)))\n",
    "#model.add(Convolution2D(24, (5, 5), strides=(2,2), activation='relu', padding='same'))\n",
    "\n",
    "model.add(Convolution2D(24, (5, 5), strides=(2,2), activation='relu', padding='same', input_shape=(IMAGE_INPUT_WIDTH, IMAGE_INPUT_HEIGHT,3)))\n",
    "model.add(Convolution2D(32, (5, 5), strides=(2,2), activation='relu', padding='same'))\n",
    "model.add(Convolution2D(64, (5, 5), strides=(2,2), activation='relu', padding='same'))\n",
    "model.add(Convolution2D(64, (3, 3), strides=(2,2), activation='relu', padding='same'))\n",
    "model.add(Convolution2D(64, (3, 3), strides=(2,2), activation='relu', padding='same'))\n",
    "model.add(Flatten())\n",
    "model.add(Dense(100, activation='linear'))\n",
    "model.add(Dropout(rate=.1))\n",
    "model.add(Dense(50, activation='linear'))\n",
    "model.add(Dropout(rate=.1))\n",
    "model.add(Dense(15, activation='linear'))\n",
    "\n",
    "#model.compile(optimizers.rmsprop(lr=2, decay=0.5), loss=\"categorical_crossentropy\", metrics=[\"accuracy\"])\n",
    "model.compile('adam', loss=\"categorical_crossentropy\")\n",
    "# Set callback functions to early stop training and save the best model so far\n",
    "callbacks = [EarlyStopping(monitor='val_loss', patience=10),\n",
    "             ModelCheckpoint(filepath=MODEL_SAVE_PATH, monitor='val_loss', verbose=True, save_best_only=True, mode='min')]\n",
    "\n"
   ]
  },
  {
   "cell_type": "code",
   "execution_count": null,
   "metadata": {},
   "outputs": [],
   "source": [
    "# Augumenting data slows down training\n",
    "# datagen=ImageDataGenerator(rotation_range=15, width_shift_range=0.5, height_shift_range=0.05)\n",
    "steps_per_epoch=10000\n",
    "validation_split=0.2\n",
    "epochs=100\n",
    "datagen=ImageDataGenerator(validation_split=validation_split)\n",
    "train_generator=datagen.flow_from_dataframe(dataframe=samples, x_col=\"img\", y_col=\"angle\", class_mode=\"categorical\", classes=classes, target_size=(IMAGE_INPUT_WIDTH,IMAGE_INPUT_HEIGHT), batch_size=32, subset='training')\n",
    "validation_generator=datagen.flow_from_dataframe(dataframe=samples, x_col=\"img\", y_col=\"angle\", class_mode=\"categorical\", classes=classes, target_size=(IMAGE_INPUT_WIDTH,IMAGE_INPUT_HEIGHT), batch_size=32, subset='validation')\n",
    "model.fit_generator(verbose=1, callbacks=callbacks, generator=train_generator, validation_data=validation_generator, steps_per_epoch=steps_per_epoch, epochs=epochs, validation_steps=steps_per_epoch * validation_split, max_queue_size=1024, workers=2, use_multiprocessing=False)"
   ]
  },
  {
   "cell_type": "code",
   "execution_count": null,
   "metadata": {
    "collapsed": true
   },
   "outputs": [],
   "source": [
    "%matplotlib inline\n",
    "import matplotlib.pyplot as plt\n",
    "import matplotlib.image as mpimg\n",
    "import numpy as np"
   ]
  },
  {
   "cell_type": "code",
   "execution_count": null,
   "metadata": {},
   "outputs": [],
   "source": [
    "images=next(train_generator)[0]\n",
    "predictions=model.predict(images)\n",
    "images=images.astype('uint8')\n",
    "\n",
    "fig, ax = plt.subplots(nrows=10, ncols=2, figsize=(7,40))\n",
    "rowid=0\n",
    "for row in ax:\n",
    "    row[0].imshow(images[rowid])\n",
    "    row[1].bar(np.arange(-1,1,2/15), predictions[rowid])\n",
    "    rowid=rowid+1"
   ]
  }
 ],
 "metadata": {
  "kernelspec": {
   "display_name": "Python 3",
   "language": "python",
   "name": "python3"
  },
  "language_info": {
   "codemirror_mode": {
    "name": "ipython",
    "version": 3
   },
   "file_extension": ".py",
   "mimetype": "text/x-python",
   "name": "python",
   "nbconvert_exporter": "python",
   "pygments_lexer": "ipython3",
   "version": "3.4.6"
  }
 },
 "nbformat": 4,
 "nbformat_minor": 2
}
