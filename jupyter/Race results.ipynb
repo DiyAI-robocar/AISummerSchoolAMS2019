{
 "cells": [
  {
   "cell_type": "code",
   "execution_count": 2,
   "metadata": {},
   "outputs": [],
   "source": [
    "import pandas as pd"
   ]
  },
  {
   "cell_type": "code",
   "execution_count": 41,
   "metadata": {},
   "outputs": [],
   "source": [
    "race_results=pd.read_csv('../race_results.csv')\n"
   ]
  },
  {
   "cell_type": "markdown",
   "metadata": {},
   "source": [
    "## Time per each lap\n",
    "\n",
    "NaN values indicate that the lap was disqualified due to grave rule violations."
   ]
  },
  {
   "cell_type": "code",
   "execution_count": 24,
   "metadata": {},
   "outputs": [
    {
     "name": "stdout",
     "output_type": "stream",
     "text": [
      "LapNr                  1      2      3      4      5      6      7      8   \\\n",
      "Team                                                                         \n",
      "AIRBORN             14.78  14.89  14.31  15.58  14.71  13.99  14.99  14.59   \n",
      "BETTER THAN RANDOM  26.65    NaN    NaN    NaN    NaN    NaN    NaN    NaN   \n",
      "TABLE-5             14.44  14.79    NaN  31.00  17.46  15.04  14.66  14.84   \n",
      "TEAM-A              14.39  14.99  15.39  15.36    NaN  13.27  13.51  15.06   \n",
      "\n",
      "LapNr                  9      10  \n",
      "Team                              \n",
      "AIRBORN             13.84  13.97  \n",
      "BETTER THAN RANDOM    NaN    NaN  \n",
      "TABLE-5             14.56  16.42  \n",
      "TEAM-A                NaN  14.58  \n"
     ]
    }
   ],
   "source": [
    "lap_time_tables = pd.pivot_table(race_results[race_results['Attr']=='Lap time'], values='Value', index='Team', columns=['LapNr'])\n",
    "print(lap_time_tables)\n"
   ]
  },
  {
   "cell_type": "markdown",
   "metadata": {},
   "source": [
    "## Best lap per team"
   ]
  },
  {
   "cell_type": "code",
   "execution_count": 34,
   "metadata": {},
   "outputs": [
    {
     "data": {
      "text/plain": [
       "Team\n",
       "TEAM-A                13.27\n",
       "AIRBORN               13.84\n",
       "TABLE-5               14.44\n",
       "BETTER THAN RANDOM    26.65\n",
       "dtype: float64"
      ]
     },
     "execution_count": 34,
     "metadata": {},
     "output_type": "execute_result"
    }
   ],
   "source": [
    "lap_time_tables.min(axis=1).sort_values()"
   ]
  },
  {
   "cell_type": "markdown",
   "metadata": {},
   "source": [
    "## Number of disqualified laps"
   ]
  },
  {
   "cell_type": "code",
   "execution_count": 36,
   "metadata": {
    "scrolled": true
   },
   "outputs": [
    {
     "data": {
      "text/plain": [
       "Team\n",
       "AIRBORN               0\n",
       "TABLE-5               1\n",
       "TEAM-A                2\n",
       "BETTER THAN RANDOM    9\n",
       "dtype: int64"
      ]
     },
     "execution_count": 36,
     "metadata": {},
     "output_type": "execute_result"
    }
   ],
   "source": [
    "lap_time_tables.isnull().sum(axis=1).sort_values()"
   ]
  }
 ],
 "metadata": {
  "kernelspec": {
   "display_name": "Python 3",
   "language": "python",
   "name": "python3"
  },
  "language_info": {
   "codemirror_mode": {
    "name": "ipython",
    "version": 3
   },
   "file_extension": ".py",
   "mimetype": "text/x-python",
   "name": "python",
   "nbconvert_exporter": "python",
   "pygments_lexer": "ipython3",
   "version": "3.6.7"
  }
 },
 "nbformat": 4,
 "nbformat_minor": 2
}
